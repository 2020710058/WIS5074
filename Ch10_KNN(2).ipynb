{
 "cells": [
  {
   "cell_type": "markdown",
   "metadata": {},
   "source": [
    "### **파이썬을 활용한 빅데이터 분석**"
   ]
  },
  {
   "cell_type": "markdown",
   "metadata": {},
   "source": [
    "##### Chapter 10 기타 기계학습을 이용한 데이터 분석(K-Nearest Neighbors)(2)"
   ]
  },
  {
   "cell_type": "markdown",
   "metadata": {},
   "source": [
    "##### 2020710058 Applied Data Science Doo-yeonog, Lee"
   ]
  },
  {
   "cell_type": "markdown",
   "metadata": {},
   "source": [
    "##### Breast Cancer Data 분류"
   ]
  },
  {
   "cell_type": "code",
   "execution_count": 2,
   "metadata": {},
   "outputs": [],
   "source": [
    "# Load Libraries\n",
    "import numpy as np\n",
    "import pandas as pd\n",
    "import matplotlib.pyplot as plt\n",
    "\n",
    "from sklearn.neighbors import KNeighborsClassifier\n",
    "from sklearn.metrics import accuracy_score\n",
    "from sklearn.model_selection import train_test_split\n",
    "from sklearn.model_selection import cross_val_score\n",
    "from sklearn.datasets import load_breast_cancer"
   ]
  },
  {
   "cell_type": "code",
   "execution_count": null,
   "metadata": {},
   "outputs": [],
   "source": []
  },
  {
   "cell_type": "code",
   "execution_count": 9,
   "metadata": {},
   "outputs": [
    {
     "data": {
      "text/html": [
       "<div>\n",
       "<style scoped>\n",
       "    .dataframe tbody tr th:only-of-type {\n",
       "        vertical-align: middle;\n",
       "    }\n",
       "\n",
       "    .dataframe tbody tr th {\n",
       "        vertical-align: top;\n",
       "    }\n",
       "\n",
       "    .dataframe thead th {\n",
       "        text-align: right;\n",
       "    }\n",
       "</style>\n",
       "<table border=\"1\" class=\"dataframe\">\n",
       "  <thead>\n",
       "    <tr style=\"text-align: right;\">\n",
       "      <th></th>\n",
       "      <th>mean radius</th>\n",
       "      <th>mean texture</th>\n",
       "      <th>mean perimeter</th>\n",
       "      <th>mean area</th>\n",
       "      <th>mean smoothness</th>\n",
       "      <th>mean compactness</th>\n",
       "      <th>mean concavity</th>\n",
       "      <th>mean concave points</th>\n",
       "      <th>mean symmetry</th>\n",
       "      <th>mean fractal dimension</th>\n",
       "      <th>...</th>\n",
       "      <th>worst radius</th>\n",
       "      <th>worst texture</th>\n",
       "      <th>worst perimeter</th>\n",
       "      <th>worst area</th>\n",
       "      <th>worst smoothness</th>\n",
       "      <th>worst compactness</th>\n",
       "      <th>worst concavity</th>\n",
       "      <th>worst concave points</th>\n",
       "      <th>worst symmetry</th>\n",
       "      <th>worst fractal dimension</th>\n",
       "    </tr>\n",
       "  </thead>\n",
       "  <tbody>\n",
       "    <tr>\n",
       "      <td>0</td>\n",
       "      <td>17.99</td>\n",
       "      <td>10.38</td>\n",
       "      <td>122.80</td>\n",
       "      <td>1001.0</td>\n",
       "      <td>0.11840</td>\n",
       "      <td>0.27760</td>\n",
       "      <td>0.3001</td>\n",
       "      <td>0.14710</td>\n",
       "      <td>0.2419</td>\n",
       "      <td>0.07871</td>\n",
       "      <td>...</td>\n",
       "      <td>25.38</td>\n",
       "      <td>17.33</td>\n",
       "      <td>184.60</td>\n",
       "      <td>2019.0</td>\n",
       "      <td>0.1622</td>\n",
       "      <td>0.6656</td>\n",
       "      <td>0.7119</td>\n",
       "      <td>0.2654</td>\n",
       "      <td>0.4601</td>\n",
       "      <td>0.11890</td>\n",
       "    </tr>\n",
       "    <tr>\n",
       "      <td>1</td>\n",
       "      <td>20.57</td>\n",
       "      <td>17.77</td>\n",
       "      <td>132.90</td>\n",
       "      <td>1326.0</td>\n",
       "      <td>0.08474</td>\n",
       "      <td>0.07864</td>\n",
       "      <td>0.0869</td>\n",
       "      <td>0.07017</td>\n",
       "      <td>0.1812</td>\n",
       "      <td>0.05667</td>\n",
       "      <td>...</td>\n",
       "      <td>24.99</td>\n",
       "      <td>23.41</td>\n",
       "      <td>158.80</td>\n",
       "      <td>1956.0</td>\n",
       "      <td>0.1238</td>\n",
       "      <td>0.1866</td>\n",
       "      <td>0.2416</td>\n",
       "      <td>0.1860</td>\n",
       "      <td>0.2750</td>\n",
       "      <td>0.08902</td>\n",
       "    </tr>\n",
       "    <tr>\n",
       "      <td>2</td>\n",
       "      <td>19.69</td>\n",
       "      <td>21.25</td>\n",
       "      <td>130.00</td>\n",
       "      <td>1203.0</td>\n",
       "      <td>0.10960</td>\n",
       "      <td>0.15990</td>\n",
       "      <td>0.1974</td>\n",
       "      <td>0.12790</td>\n",
       "      <td>0.2069</td>\n",
       "      <td>0.05999</td>\n",
       "      <td>...</td>\n",
       "      <td>23.57</td>\n",
       "      <td>25.53</td>\n",
       "      <td>152.50</td>\n",
       "      <td>1709.0</td>\n",
       "      <td>0.1444</td>\n",
       "      <td>0.4245</td>\n",
       "      <td>0.4504</td>\n",
       "      <td>0.2430</td>\n",
       "      <td>0.3613</td>\n",
       "      <td>0.08758</td>\n",
       "    </tr>\n",
       "    <tr>\n",
       "      <td>3</td>\n",
       "      <td>11.42</td>\n",
       "      <td>20.38</td>\n",
       "      <td>77.58</td>\n",
       "      <td>386.1</td>\n",
       "      <td>0.14250</td>\n",
       "      <td>0.28390</td>\n",
       "      <td>0.2414</td>\n",
       "      <td>0.10520</td>\n",
       "      <td>0.2597</td>\n",
       "      <td>0.09744</td>\n",
       "      <td>...</td>\n",
       "      <td>14.91</td>\n",
       "      <td>26.50</td>\n",
       "      <td>98.87</td>\n",
       "      <td>567.7</td>\n",
       "      <td>0.2098</td>\n",
       "      <td>0.8663</td>\n",
       "      <td>0.6869</td>\n",
       "      <td>0.2575</td>\n",
       "      <td>0.6638</td>\n",
       "      <td>0.17300</td>\n",
       "    </tr>\n",
       "    <tr>\n",
       "      <td>4</td>\n",
       "      <td>20.29</td>\n",
       "      <td>14.34</td>\n",
       "      <td>135.10</td>\n",
       "      <td>1297.0</td>\n",
       "      <td>0.10030</td>\n",
       "      <td>0.13280</td>\n",
       "      <td>0.1980</td>\n",
       "      <td>0.10430</td>\n",
       "      <td>0.1809</td>\n",
       "      <td>0.05883</td>\n",
       "      <td>...</td>\n",
       "      <td>22.54</td>\n",
       "      <td>16.67</td>\n",
       "      <td>152.20</td>\n",
       "      <td>1575.0</td>\n",
       "      <td>0.1374</td>\n",
       "      <td>0.2050</td>\n",
       "      <td>0.4000</td>\n",
       "      <td>0.1625</td>\n",
       "      <td>0.2364</td>\n",
       "      <td>0.07678</td>\n",
       "    </tr>\n",
       "  </tbody>\n",
       "</table>\n",
       "<p>5 rows × 30 columns</p>\n",
       "</div>"
      ],
      "text/plain": [
       "   mean radius  mean texture  mean perimeter  mean area  mean smoothness  \\\n",
       "0        17.99         10.38          122.80     1001.0          0.11840   \n",
       "1        20.57         17.77          132.90     1326.0          0.08474   \n",
       "2        19.69         21.25          130.00     1203.0          0.10960   \n",
       "3        11.42         20.38           77.58      386.1          0.14250   \n",
       "4        20.29         14.34          135.10     1297.0          0.10030   \n",
       "\n",
       "   mean compactness  mean concavity  mean concave points  mean symmetry  \\\n",
       "0           0.27760          0.3001              0.14710         0.2419   \n",
       "1           0.07864          0.0869              0.07017         0.1812   \n",
       "2           0.15990          0.1974              0.12790         0.2069   \n",
       "3           0.28390          0.2414              0.10520         0.2597   \n",
       "4           0.13280          0.1980              0.10430         0.1809   \n",
       "\n",
       "   mean fractal dimension  ...  worst radius  worst texture  worst perimeter  \\\n",
       "0                 0.07871  ...         25.38          17.33           184.60   \n",
       "1                 0.05667  ...         24.99          23.41           158.80   \n",
       "2                 0.05999  ...         23.57          25.53           152.50   \n",
       "3                 0.09744  ...         14.91          26.50            98.87   \n",
       "4                 0.05883  ...         22.54          16.67           152.20   \n",
       "\n",
       "   worst area  worst smoothness  worst compactness  worst concavity  \\\n",
       "0      2019.0            0.1622             0.6656           0.7119   \n",
       "1      1956.0            0.1238             0.1866           0.2416   \n",
       "2      1709.0            0.1444             0.4245           0.4504   \n",
       "3       567.7            0.2098             0.8663           0.6869   \n",
       "4      1575.0            0.1374             0.2050           0.4000   \n",
       "\n",
       "   worst concave points  worst symmetry  worst fractal dimension  \n",
       "0                0.2654          0.4601                  0.11890  \n",
       "1                0.1860          0.2750                  0.08902  \n",
       "2                0.2430          0.3613                  0.08758  \n",
       "3                0.2575          0.6638                  0.17300  \n",
       "4                0.1625          0.2364                  0.07678  \n",
       "\n",
       "[5 rows x 30 columns]"
      ]
     },
     "execution_count": 9,
     "metadata": {},
     "output_type": "execute_result"
    }
   ],
   "source": [
    "# Load a Dataset\n",
    "breast_cancer = load_breast_cancer()\n",
    "X = breast_cancer.data\n",
    "y = breast_cancer.target\n",
    "\n",
    "df = pd.DataFrame(X, columns = breast_cancer.feature_names)\n",
    "df.head()"
   ]
  },
  {
   "cell_type": "code",
   "execution_count": 10,
   "metadata": {},
   "outputs": [
    {
     "name": "stdout",
     "output_type": "stream",
     "text": [
      "<class 'pandas.core.frame.DataFrame'>\n",
      "RangeIndex: 569 entries, 0 to 568\n",
      "Data columns (total 30 columns):\n",
      "mean radius                569 non-null float64\n",
      "mean texture               569 non-null float64\n",
      "mean perimeter             569 non-null float64\n",
      "mean area                  569 non-null float64\n",
      "mean smoothness            569 non-null float64\n",
      "mean compactness           569 non-null float64\n",
      "mean concavity             569 non-null float64\n",
      "mean concave points        569 non-null float64\n",
      "mean symmetry              569 non-null float64\n",
      "mean fractal dimension     569 non-null float64\n",
      "radius error               569 non-null float64\n",
      "texture error              569 non-null float64\n",
      "perimeter error            569 non-null float64\n",
      "area error                 569 non-null float64\n",
      "smoothness error           569 non-null float64\n",
      "compactness error          569 non-null float64\n",
      "concavity error            569 non-null float64\n",
      "concave points error       569 non-null float64\n",
      "symmetry error             569 non-null float64\n",
      "fractal dimension error    569 non-null float64\n",
      "worst radius               569 non-null float64\n",
      "worst texture              569 non-null float64\n",
      "worst perimeter            569 non-null float64\n",
      "worst area                 569 non-null float64\n",
      "worst smoothness           569 non-null float64\n",
      "worst compactness          569 non-null float64\n",
      "worst concavity            569 non-null float64\n",
      "worst concave points       569 non-null float64\n",
      "worst symmetry             569 non-null float64\n",
      "worst fractal dimension    569 non-null float64\n",
      "dtypes: float64(30)\n",
      "memory usage: 133.5 KB\n"
     ]
    }
   ],
   "source": [
    "df.info()"
   ]
  },
  {
   "cell_type": "code",
   "execution_count": 29,
   "metadata": {},
   "outputs": [
    {
     "name": "stdout",
     "output_type": "stream",
     "text": [
      "The number of train data set:  381\n",
      "The number of test data set:  188\n"
     ]
    }
   ],
   "source": [
    "# Split data into train sets and a test set\n",
    "X_train, X_test, y_train, y_test = train_test_split(X, y, test_size = 0.33, random_state = 42)\n",
    "print('The number of train data set: ', len(X_train))\n",
    "print('The number of test data set: ', len(X_test))"
   ]
  },
  {
   "cell_type": "code",
   "execution_count": 30,
   "metadata": {},
   "outputs": [
    {
     "name": "stdout",
     "output_type": "stream",
     "text": [
      "The accuracy score of classification: 0.9415\n"
     ]
    }
   ],
   "source": [
    "# Learning Model\n",
    "estimator = KNeighborsClassifier(n_neighbors = 3)\n",
    "estimator.fit(X_train, y_train)\n",
    "label_predict = estimator.predict(X_test)\n",
    "print('The accuracy score of classification: %0.4f'%accuracy_score(y_test, label_predict))"
   ]
  },
  {
   "cell_type": "code",
   "execution_count": 31,
   "metadata": {},
   "outputs": [
    {
     "name": "stdout",
     "output_type": "stream",
     "text": [
      "[1, 3, 5, 7, 9, 11, 13, 15, 17, 19, 21, 23, 25, 27, 29, 31, 33, 35, 37, 39, 41, 43, 45, 47, 49]\n",
      "The number of neighbors:  25\n"
     ]
    }
   ],
   "source": [
    "# 10-fold cross validation\n",
    "myList = list(range(1, 50))\n",
    "neighbors = [ x for x in myList if x % 2 != 0 ]\n",
    "print(neighbors)\n",
    "print(\"The number of neighbors: \", len(neighbors))"
   ]
  },
  {
   "cell_type": "code",
   "execution_count": 36,
   "metadata": {},
   "outputs": [
    {
     "name": "stdout",
     "output_type": "stream",
     "text": [
      " < k = 1 >\n",
      "The scores of classification:  [0.97435897 0.84210526 0.92105263 0.97368421 0.81578947 0.89473684\n",
      " 0.89473684 0.89473684 0.89473684 0.84210526]\n",
      "The mean score of scores:  0.8948043184885289\n",
      " < k = 3 >\n",
      "The scores of classification:  [0.94871795 0.86842105 0.89473684 0.94736842 0.94736842 0.89473684\n",
      " 0.86842105 0.89473684 0.94736842 0.81578947]\n",
      "The mean score of scores:  0.9027665317139002\n",
      " < k = 5 >\n",
      "The scores of classification:  [0.94871795 0.86842105 0.89473684 0.94736842 0.94736842 0.92105263\n",
      " 0.94736842 0.86842105 0.92105263 0.81578947]\n",
      "The mean score of scores:  0.9080296896086371\n",
      " < k = 7 >\n",
      "The scores of classification:  [0.97435897 0.84210526 0.89473684 0.94736842 0.94736842 0.92105263\n",
      " 0.92105263 0.86842105 0.92105263 0.84210526]\n",
      "The mean score of scores:  0.9079622132253711\n",
      " < k = 9 >\n",
      "The scores of classification:  [0.97435897 0.84210526 0.86842105 0.94736842 0.92105263 0.92105263\n",
      " 0.94736842 0.86842105 0.89473684 0.81578947]\n",
      "The mean score of scores:  0.9000674763832659\n",
      " < k = 11 >\n",
      "The scores of classification:  [0.97435897 0.84210526 0.86842105 0.94736842 0.92105263 0.92105263\n",
      " 0.94736842 0.86842105 0.94736842 0.81578947]\n",
      "The mean score of scores:  0.9053306342780028\n",
      " < k = 13 >\n",
      "The scores of classification:  [0.97435897 0.81578947 0.86842105 0.97368421 0.94736842 0.97368421\n",
      " 0.92105263 0.86842105 0.94736842 0.81578947]\n",
      "The mean score of scores:  0.9105937921727396\n",
      " < k = 15 >\n",
      "The scores of classification:  [0.97435897 0.81578947 0.86842105 0.97368421 0.97368421 0.92105263\n",
      " 0.92105263 0.84210526 0.94736842 0.81578947]\n",
      "The mean score of scores:  0.9053306342780028\n",
      " < k = 17 >\n",
      "The scores of classification:  [0.97435897 0.84210526 0.86842105 0.94736842 0.97368421 0.89473684\n",
      " 0.92105263 0.84210526 0.94736842 0.81578947]\n",
      "The mean score of scores:  0.9026990553306342\n",
      " < k = 19 >\n",
      "The scores of classification:  [0.97435897 0.84210526 0.86842105 0.94736842 0.97368421 0.89473684\n",
      " 0.92105263 0.84210526 0.94736842 0.81578947]\n",
      "The mean score of scores:  0.9026990553306342\n",
      " < k = 21 >\n",
      "The scores of classification:  [0.97435897 0.84210526 0.86842105 0.97368421 0.97368421 0.89473684\n",
      " 0.92105263 0.84210526 0.94736842 0.81578947]\n",
      "The mean score of scores:  0.9053306342780028\n",
      " < k = 23 >\n",
      "The scores of classification:  [0.97435897 0.84210526 0.86842105 0.97368421 0.97368421 0.89473684\n",
      " 0.92105263 0.84210526 0.94736842 0.81578947]\n",
      "The mean score of scores:  0.9053306342780028\n",
      " < k = 25 >\n",
      "The scores of classification:  [0.97435897 0.84210526 0.86842105 0.94736842 0.97368421 0.89473684\n",
      " 0.92105263 0.84210526 0.94736842 0.81578947]\n",
      "The mean score of scores:  0.9026990553306342\n",
      " < k = 27 >\n",
      "The scores of classification:  [0.94871795 0.84210526 0.86842105 0.97368421 0.97368421 0.89473684\n",
      " 0.92105263 0.84210526 0.94736842 0.81578947]\n",
      "The mean score of scores:  0.9027665317139002\n",
      " < k = 29 >\n",
      "The scores of classification:  [0.97435897 0.84210526 0.86842105 0.97368421 0.94736842 0.89473684\n",
      " 0.92105263 0.84210526 0.94736842 0.81578947]\n",
      "The mean score of scores:  0.9026990553306342\n",
      " < k = 31 >\n",
      "The scores of classification:  [0.97435897 0.81578947 0.86842105 0.97368421 0.97368421 0.89473684\n",
      " 0.92105263 0.84210526 0.94736842 0.81578947]\n",
      "The mean score of scores:  0.9026990553306342\n",
      " < k = 33 >\n",
      "The scores of classification:  [0.97435897 0.84210526 0.86842105 0.97368421 0.97368421 0.89473684\n",
      " 0.92105263 0.84210526 0.92105263 0.81578947]\n",
      "The mean score of scores:  0.9026990553306342\n",
      " < k = 35 >\n",
      "The scores of classification:  [0.97435897 0.84210526 0.86842105 0.97368421 0.97368421 0.89473684\n",
      " 0.92105263 0.84210526 0.92105263 0.81578947]\n",
      "The mean score of scores:  0.9026990553306342\n",
      " < k = 37 >\n",
      "The scores of classification:  [0.97435897 0.84210526 0.86842105 0.97368421 0.97368421 0.89473684\n",
      " 0.92105263 0.84210526 0.92105263 0.81578947]\n",
      "The mean score of scores:  0.9026990553306342\n",
      " < k = 39 >\n",
      "The scores of classification:  [0.94871795 0.81578947 0.86842105 0.97368421 0.97368421 0.89473684\n",
      " 0.92105263 0.84210526 0.92105263 0.81578947]\n",
      "The mean score of scores:  0.8975033738191632\n",
      " < k = 41 >\n",
      "The scores of classification:  [0.92307692 0.86842105 0.86842105 0.97368421 0.97368421 0.89473684\n",
      " 0.92105263 0.84210526 0.92105263 0.81578947]\n",
      "The mean score of scores:  0.9002024291497976\n",
      " < k = 43 >\n",
      "The scores of classification:  [0.92307692 0.84210526 0.86842105 0.97368421 0.97368421 0.89473684\n",
      " 0.92105263 0.81578947 0.92105263 0.81578947]\n",
      "The mean score of scores:  0.8949392712550608\n",
      " < k = 45 >\n",
      "The scores of classification:  [0.92307692 0.81578947 0.86842105 0.97368421 0.97368421 0.89473684\n",
      " 0.92105263 0.81578947 0.92105263 0.81578947]\n",
      "The mean score of scores:  0.8923076923076924\n",
      " < k = 47 >\n",
      "The scores of classification:  [0.92307692 0.78947368 0.86842105 0.97368421 0.97368421 0.89473684\n",
      " 0.92105263 0.81578947 0.92105263 0.81578947]\n",
      "The mean score of scores:  0.8896761133603238\n",
      " < k = 49 >\n",
      "The scores of classification:  [0.92307692 0.81578947 0.86842105 0.97368421 0.97368421 0.89473684\n",
      " 0.92105263 0.81578947 0.92105263 0.81578947]\n",
      "The mean score of scores:  0.8923076923076924\n"
     ]
    }
   ],
   "source": [
    "cv_scores = []\n",
    "for k in neighbors:\n",
    "    print(' < k = %d >'%k)\n",
    "    estimator = KNeighborsClassifier(n_neighbors = k)\n",
    "    scores = cross_val_score(estimator, X_train, y_train, cv = 10, scoring = 'accuracy')\n",
    "    print('The scores of classification: ', scores)\n",
    "    cv_scores.append(scores.mean())\n",
    "    print('The mean score of scores: ', scores.mean())"
   ]
  },
  {
   "cell_type": "code",
   "execution_count": 43,
   "metadata": {},
   "outputs": [
    {
     "name": "stdout",
     "output_type": "stream",
     "text": [
      "Optimal K:  13\n"
     ]
    },
    {
     "data": {
      "image/png": "[encoded data removed]",
      "text/plain": [
       "<Figure size 720x720 with 1 Axes>"
      ]
     },
     "metadata": {
      "needs_background": "light"
     },
     "output_type": "display_data"
    }
   ],
   "source": [
    "# MSE\n",
    "MSE = [1 - x for x in cv_scores]\n",
    "plt.figure(figsize = (10,10))\n",
    "plt.plot(neighbors, MSE)\n",
    "plt.xlabel('Neighbors, K')\n",
    "plt.ylabel('MSE')\n",
    "\n",
    "min_MSE = min(MSE)\n",
    "index_min_MSE = MSE.index(min_MSE)\n",
    "optimal_k = neighbors[index_min_MSE]\n",
    "print('Optimal K: ', optimal_k)"
   ]
  },
  {
   "cell_type": "code",
   "execution_count": 45,
   "metadata": {},
   "outputs": [
    {
     "name": "stdout",
     "output_type": "stream",
     "text": [
      "The accuracy score of classification:  0.9627659574468085\n"
     ]
    }
   ],
   "source": [
    "# KNN with optimal K\n",
    "estimator = KNeighborsClassifier(n_neighbors = optimal_k)\n",
    "estimator.fit(X_train, y_train)\n",
    "label_predict = estimator.predict(X_test)\n",
    "print('The accuracy score of classification: ', accuracy_score(y_test, label_predict))"
   ]
  },
  {
   "cell_type": "code",
   "execution_count": null,
   "metadata": {},
   "outputs": [],
   "source": []
  }
 ],
 "metadata": {
  "kernelspec": {
   "display_name": "Python 3",
   "language": "python",
   "name": "python3"
  },
  "language_info": {
   "codemirror_mode": {
    "name": "ipython",
    "version": 3
   },
   "file_extension": ".py",
   "mimetype": "text/x-python",
   "name": "python",
   "nbconvert_exporter": "python",
   "pygments_lexer": "ipython3",
   "version": "3.7.4"
  }
 },
 "nbformat": 4,
 "nbformat_minor": 4
}
