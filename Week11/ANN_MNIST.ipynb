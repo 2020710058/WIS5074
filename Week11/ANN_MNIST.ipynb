{
  "nbformat": 4,
  "nbformat_minor": 0,
  "metadata": {
    "kernelspec": {
      "display_name": "Python 3",
      "language": "python",
      "name": "python3"
    },
    "language_info": {
      "codemirror_mode": {
        "name": "ipython",
        "version": 3
      },
      "file_extension": ".py",
      "mimetype": "text/x-python",
      "name": "python",
      "nbconvert_exporter": "python",
      "pygments_lexer": "ipython3",
      "version": "3.7.4"
    },
    "colab": {
      "name": "ANN_MNIST.ipynb",
      "provenance": []
    }
  },
  "cells": [
    {
      "cell_type": "markdown",
      "metadata": {
        "id": "upFkF0XzE9il"
      },
      "source": [
        "### **Artificial Neural Network MNIST**"
      ]
    },
    {
      "cell_type": "markdown",
      "metadata": {
        "id": "wvI-HOyfE9i5"
      },
      "source": [
        "##### 2020710058 Applied Data Science Doo-yeonog, Lee"
      ]
    },
    {
      "cell_type": "code",
      "metadata": {
        "id": "Zui7BFTeE9i8"
      },
      "source": [
        "from keras import layers, models"
      ],
      "execution_count": 1,
      "outputs": []
    },
    {
      "cell_type": "code",
      "metadata": {
        "id": "2hSAOuJlE9i-"
      },
      "source": [
        "def ANN_models_func(Nin, Nh, Nout):\n",
        "    x = layers.Input(shape=(Nin,))\n",
        "    h = layers.Activation('relu')(layers.Dense(Nh)(x))\n",
        "    y = layers.Activation('softmax')(layers.Dense(Nout)(h))\n",
        "    model = models.Model(x, y)\n",
        "    model.compile(loss='categorical_crossentropy', optimizer='adam', metrics=['accuracy'])\n",
        "    return model"
      ],
      "execution_count": 2,
      "outputs": []
    },
    {
      "cell_type": "code",
      "metadata": {
        "id": "8ivVqKKwE9jA"
      },
      "source": [
        "def ANN_seq_func(Nin, Nh, Nout):\n",
        "    model = models.Sequential()\n",
        "    model.add(layers.Dense(Nh, activation='relu', input_shape=(Nin,)))\n",
        "    model.add(layers.Dense(Nout, activation='softmax'))\n",
        "    model.compile(loss='categorical_crossentropy',\n",
        "                  optimizer='adam', metrics=['accuracy'])\n",
        "    return model"
      ],
      "execution_count": 3,
      "outputs": []
    },
    {
      "cell_type": "code",
      "metadata": {
        "id": "DsjnHQxrE9jB"
      },
      "source": [
        "class ANN_models_class(models.Model):\n",
        "    def __init__(self, Nin, Nh, Nout):\n",
        "        # Prepare network layers and activate functions\n",
        "        hidden = layers.Dense(Nh)\n",
        "        output = layers.Dense(Nout)\n",
        "        relu = layers.Activation('relu')\n",
        "        softmax = layers.Activation('softmax')\n",
        "\n",
        "        # Connect network elements\n",
        "        x = layers.Input(shape=(Nin,))\n",
        "        h = relu(hidden(x))\n",
        "        y = softmax(output(h))\n",
        "\n",
        "        super().__init__(x, y)\n",
        "        self.compile(loss='categorical_crossentropy',\n",
        "                     optimizer='adam', metrics=['accuracy'])"
      ],
      "execution_count": 4,
      "outputs": []
    },
    {
      "cell_type": "code",
      "metadata": {
        "id": "6lxkrKmSE9jC"
      },
      "source": [
        "class ANN_seq_class(models.Sequential):\n",
        "    def __init__(self, Nin, Nh, Nout):\n",
        "        super().__init__()\n",
        "        self.add(layers.Dense(Nh, activation='relu', input_shape=(Nin,)))\n",
        "        self.add(layers.Dense(Nout, activation='softmax'))\n",
        "        self.compile(loss='categorical_crossentropy',\n",
        "                     optimizer='adam', metrics=['accuracy'])"
      ],
      "execution_count": 5,
      "outputs": []
    },
    {
      "cell_type": "code",
      "metadata": {
        "id": "d1u2EQMCE9jE"
      },
      "source": [
        "##############################################\n",
        "# Data\n",
        "##############################################\n",
        "import numpy as np\n",
        "from keras import datasets  # mnist\n",
        "from keras.utils import np_utils  # to_categorical\n",
        "\n",
        "def Data_func():\n",
        "    (X_train, y_train), (X_test, y_test) = datasets.mnist.load_data()\n",
        "\n",
        "    Y_train = np_utils.to_categorical(y_train)\n",
        "    Y_test = np_utils.to_categorical(y_test)\n",
        "\n",
        "    L, W, H = X_train.shape\n",
        "    X_train = X_train.reshape(-1, W * H)\n",
        "    X_test = X_test.reshape(-1, W * H)\n",
        "\n",
        "    X_train = X_train / 255.0\n",
        "    X_test = X_test / 255.0\n",
        "\n",
        "    return (X_train, Y_train), (X_test, Y_test)"
      ],
      "execution_count": 6,
      "outputs": []
    },
    {
      "cell_type": "code",
      "metadata": {
        "id": "wbNJx-euE9jF"
      },
      "source": [
        "##############################################\n",
        "# Plotting\n",
        "##############################################\n",
        "import matplotlib.pyplot as plt\n",
        "\n",
        "\n",
        "def plot_acc(history, title=None):\n",
        "    # summarize history for accuracy\n",
        "    if not isinstance(history, dict):\n",
        "        history = history.history\n",
        "\n",
        "    plt.plot(history['accuracy'])\n",
        "    plt.plot(history['val_accuracy'])\n",
        "    if title is not None:\n",
        "        plt.title(title)\n",
        "    plt.ylabel('Accuracy')\n",
        "    plt.xlabel('Epoch')\n",
        "    plt.legend(['Training', 'Verification'], loc=0)\n",
        "    # plt.show()\n",
        "\n",
        "\n",
        "def plot_loss(history, title=None):\n",
        "    # summarize history for loss\n",
        "    if not isinstance(history, dict):\n",
        "        history = history.history\n",
        "\n",
        "    plt.plot(history['loss'])\n",
        "    plt.plot(history['val_loss'])\n",
        "    if title is not None:\n",
        "        plt.title(title)\n",
        "    plt.ylabel('Loss')\n",
        "    plt.xlabel('Epoch')\n",
        "    plt.legend(['Training', 'Verification'], loc=0)\n",
        "    # plt.show()\n"
      ],
      "execution_count": 7,
      "outputs": []
    },
    {
      "cell_type": "code",
      "metadata": {
        "colab": {
          "base_uri": "https://localhost:8080/",
          "height": 1000
        },
        "id": "7dfh9QwJE9jH",
        "outputId": "a6ca5fc8-41c3-43b9-dd8a-f7efd0ef4d7b"
      },
      "source": [
        "##############################################\n",
        "# Main\n",
        "##############################################\n",
        "def main():\n",
        "    Nin = 784\n",
        "    Nh = 100\n",
        "    number_of_class = 10\n",
        "    Nout = number_of_class\n",
        "\n",
        "    # model = ANN_models_func(Nin, Nh, Nout)\n",
        "    # model = ANN_models_class(Nin, Nh, Nout)\n",
        "    model = ANN_seq_class(Nin, Nh, Nout)\n",
        "    (X_train, Y_train), (X_test, Y_test) = Data_func()\n",
        "\n",
        "    ##############################################\n",
        "    # Training\n",
        "    ##############################################\n",
        "    history = model.fit(X_train, Y_train, epochs=15, batch_size=100, validation_split=0.2)\n",
        "    performace_test = model.evaluate(X_test, Y_test, batch_size=100)\n",
        "    print('Test Loss and Accuracy ->', performace_test)\n",
        "\n",
        "    plot_loss(history)\n",
        "    plt.show()\n",
        "    plot_acc(history)\n",
        "    plt.show()\n",
        "\n",
        "\n",
        "# Run code\n",
        "if __name__ == '__main__':\n",
        "    main()\n"
      ],
      "execution_count": 8,
      "outputs": [
        {
          "output_type": "stream",
          "text": [
            "Downloading data from https://storage.googleapis.com/tensorflow/tf-keras-datasets/mnist.npz\n",
            "11493376/11490434 [==============================] - 0s 0us/step\n",
            "Epoch 1/15\n",
            "480/480 [==============================] - 2s 4ms/step - loss: 0.6972 - accuracy: 0.8038 - val_loss: 0.2103 - val_accuracy: 0.9413\n",
            "Epoch 2/15\n",
            "480/480 [==============================] - 1s 3ms/step - loss: 0.1941 - accuracy: 0.9461 - val_loss: 0.1538 - val_accuracy: 0.9578\n",
            "Epoch 3/15\n",
            "480/480 [==============================] - 1s 3ms/step - loss: 0.1377 - accuracy: 0.9591 - val_loss: 0.1330 - val_accuracy: 0.9622\n",
            "Epoch 4/15\n",
            "480/480 [==============================] - 1s 3ms/step - loss: 0.1098 - accuracy: 0.9684 - val_loss: 0.1235 - val_accuracy: 0.9638\n",
            "Epoch 5/15\n",
            "480/480 [==============================] - 1s 3ms/step - loss: 0.0854 - accuracy: 0.9751 - val_loss: 0.1103 - val_accuracy: 0.9691\n",
            "Epoch 6/15\n",
            "480/480 [==============================] - 1s 3ms/step - loss: 0.0704 - accuracy: 0.9793 - val_loss: 0.1029 - val_accuracy: 0.9698\n",
            "Epoch 7/15\n",
            "480/480 [==============================] - 1s 3ms/step - loss: 0.0589 - accuracy: 0.9842 - val_loss: 0.0958 - val_accuracy: 0.9718\n",
            "Epoch 8/15\n",
            "480/480 [==============================] - 1s 3ms/step - loss: 0.0471 - accuracy: 0.9858 - val_loss: 0.0941 - val_accuracy: 0.9719\n",
            "Epoch 9/15\n",
            "480/480 [==============================] - 1s 3ms/step - loss: 0.0422 - accuracy: 0.9885 - val_loss: 0.0912 - val_accuracy: 0.9729\n",
            "Epoch 10/15\n",
            "480/480 [==============================] - 1s 3ms/step - loss: 0.0339 - accuracy: 0.9918 - val_loss: 0.0902 - val_accuracy: 0.9747\n",
            "Epoch 11/15\n",
            "480/480 [==============================] - 1s 3ms/step - loss: 0.0299 - accuracy: 0.9922 - val_loss: 0.0931 - val_accuracy: 0.9732\n",
            "Epoch 12/15\n",
            "480/480 [==============================] - 1s 3ms/step - loss: 0.0261 - accuracy: 0.9938 - val_loss: 0.0881 - val_accuracy: 0.9738\n",
            "Epoch 13/15\n",
            "480/480 [==============================] - 1s 3ms/step - loss: 0.0195 - accuracy: 0.9961 - val_loss: 0.0945 - val_accuracy: 0.9732\n",
            "Epoch 14/15\n",
            "480/480 [==============================] - 1s 3ms/step - loss: 0.0181 - accuracy: 0.9962 - val_loss: 0.0916 - val_accuracy: 0.9748\n",
            "Epoch 15/15\n",
            "480/480 [==============================] - 1s 3ms/step - loss: 0.0151 - accuracy: 0.9975 - val_loss: 0.0940 - val_accuracy: 0.9726\n",
            "100/100 [==============================] - 0s 1ms/step - loss: 0.0836 - accuracy: 0.9765\n",
            "Test Loss and Accuracy -> [0.0835881158709526, 0.9764999747276306]\n"
          ],
          "name": "stdout"
        },
        {
          "output_type": "display_data",
          "data": {
            "image/png": "[encoded data removed]",
            "text/plain": [
              "<Figure size 432x288 with 1 Axes>"
            ]
          },
          "metadata": {
            "tags": [],
            "needs_background": "light"
          }
        },
        {
          "output_type": "display_data",
          "data": {
            "image/png": "[encoded data removed]",
            "text/plain": [
              "<Figure size 432x288 with 1 Axes>"
            ]
          },
          "metadata": {
            "tags": [],
            "needs_background": "light"
          }
        }
      ]
    },
    {
      "cell_type": "code",
      "metadata": {
        "id": "ZAGSRBVbFJge"
      },
      "source": [
        ""
      ],
      "execution_count": null,
      "outputs": []
    }
  ]
}
