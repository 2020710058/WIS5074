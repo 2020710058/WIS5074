{
 "cells": [
  {
   "cell_type": "markdown",
   "metadata": {},
   "source": [
    "### Linear Regression_Gradient_Descent"
   ]
  },
  {
   "cell_type": "markdown",
   "metadata": {},
   "source": [
    "##### 2020710058 Applied Data Science Doo-Yeong LEE"
   ]
  },
  {
   "cell_type": "code",
   "execution_count": 2,
   "metadata": {},
   "outputs": [],
   "source": [
    "import requests\n",
    "from bs4 import BeautifulSoup"
   ]
  },
  {
   "cell_type": "code",
   "execution_count": 40,
   "metadata": {},
   "outputs": [],
   "source": [
    "f=open('naverarticle.csv','w')\n",
    "f.write('기사제목, 언론사\\n')\n",
    "\n",
    "url = 'https://search.naver.com/search.naver?where=news&sm=tab_jum&query=%EC%84%B1%EA%B7%A0%EA%B4%80%EB%8C%80'\n",
    "raw = requests.get(url)\n",
    "html = BeautifulSoup(raw.text, 'html.parser')\n",
    "article = html.select('ul.list_news > li') # 해당 부분 코드가 바뀌어있음 cf)'ul.type01 > li'"
   ]
  },
  {
   "cell_type": "code",
   "execution_count": 42,
   "metadata": {},
   "outputs": [
    {
     "name": "stdout",
     "output_type": "stream",
     "text": [
      "성균관대·오뚜기·삼성서울병원_ 식품임상연구소 건립 추진\n",
      "전자신문\n",
      "============================================================\n",
      "성균관대 법조·법대로스쿨 동창회_ 모교에 '1억7000만원' 발전기금\n",
      "법률신문\n",
      "============================================================\n",
      "오뚜기·삼성서울병원·성균관대_ 식품임상연구소 건립 위한 업무협약 체결\n",
      "동아일보\n",
      "============================================================\n",
      "2020 SW스타트업 창업 챌린지 공모전…성균관대 모아이팀 '똑독(AI와 함께 하...\n",
      "전자신문\n",
      "============================================================\n",
      "경부선 성균관대~화서역간 노후 화산천교 개량 완료\n",
      "e대한경제\n",
      "============================================================\n",
      "오뚜기_ 삼성서울병원 성균관대와 함께 식품임상연구소 세우기로\n",
      "비즈니스포스트\n",
      "============================================================\n",
      "오뚜기 '삼성서울병원 '성균관대 ‘식품임상연구소’ 건립 산학협력 협약\n",
      "쿠키뉴스\n",
      "============================================================\n",
      "성균관대 글로벌창업대학원_ 율천동에 사랑의 기부물품 전달\n",
      "한국대학신문\n",
      "============================================================\n",
      "한국IBM \"성균관대·GC녹십자지놈_ ESS로 데이터 처리 효율성 높여\"\n",
      "IT조선\n",
      "============================================================\n",
      "IBM_ 성균관대에 올플래시 스토리지 공급…온라인 강의 지원\n",
      "아이뉴스24\n",
      "============================================================\n"
     ]
    }
   ],
   "source": [
    "for i in article:\n",
    "    title = i.select_one('div.news_area > a.news_tit').text.strip().replace(',', '_')\n",
    "    pub=i.select_one('div.info_group > a').text.strip().replace(',','_')\n",
    "    print(title)\n",
    "    print(pub)\n",
    "    print('='*60)\n",
    "    f.write(title + ',' + pub + '\\n')\n",
    "f.close()"
   ]
  },
  {
   "cell_type": "code",
   "execution_count": 61,
   "metadata": {},
   "outputs": [
    {
     "name": "stdout",
     "output_type": "stream",
     "text": [
      "기사제목, 언론사\n",
      "\n",
      "성균관대·오뚜기·삼성서울병원_ 식품임상연구소 건립 추진,전자신문\n",
      "\n",
      "성균관대 법조·법대로스쿨 동창회_ 모교에 '1억7000만원' 발전기금,법률신문\n",
      "\n",
      "오뚜기·삼성서울병원·성균관대_ 식품임상연구소 건립 위한 업무협약 체결,동아일보\n",
      "\n",
      "2020 SW스타트업 창업 챌린지 공모전…성균관대 모아이팀 '똑독(AI와 함께 하...,전자신문\n",
      "\n",
      "경부선 성균관대~화서역간 노후 화산천교 개량 완료,e대한경제\n",
      "\n",
      "오뚜기_ 삼성서울병원 성균관대와 함께 식품임상연구소 세우기로,비즈니스포스트\n",
      "\n",
      "오뚜기 '삼성서울병원 '성균관대 ‘식품임상연구소’ 건립 산학협력 협약,쿠키뉴스\n",
      "\n",
      "성균관대 글로벌창업대학원_ 율천동에 사랑의 기부물품 전달,한국대학신문\n",
      "\n",
      "한국IBM \"성균관대·GC녹십자지놈_ ESS로 데이터 처리 효율성 높여\",IT조선\n",
      "\n",
      "IBM_ 성균관대에 올플래시 스토리지 공급…온라인 강의 지원,아이뉴스24\n",
      "\n",
      "성균관대·오뚜기·삼성서울병원_ 식품임상연구소 건립 추진,전자신문\n",
      "\n",
      "성균관대 법조·법대로스쿨 동창회_ 모교에 '1억7000만원' 발전기금,법률신문\n",
      "\n",
      "오뚜기·삼성서울병원·성균관대_ 식품임상연구소 건립 위한 업무협약 체결,동아일보\n",
      "\n",
      "2020 SW스타트업 창업 챌린지 공모전…성균관대 모아이팀 '똑독(AI와 함께 하...,전자신문\n",
      "\n",
      "경부선 성균관대~화서역간 노후 화산천교 개량 완료,e대한경제\n",
      "\n",
      "오뚜기_ 삼성서울병원 성균관대와 함께 식품임상연구소 세우기로,비즈니스포스트\n",
      "\n",
      "오뚜기 '삼성서울병원 '성균관대 ‘식품임상연구소’ 건립 산학협력 협약,쿠키뉴스\n",
      "\n",
      "성균관대 글로벌창업대학원_ 율천동에 사랑의 기부물품 전달,한국대학신문\n",
      "\n",
      "한국IBM \"성균관대·GC녹십자지놈_ ESS로 데이터 처리 효율성 높여\",IT조선\n",
      "\n",
      "IBM_ 성균관대에 올플래시 스토리지 공급…온라인 강의 지원,아이뉴스24\n",
      "\n"
     ]
    }
   ],
   "source": [
    "# Check the file I just made from Naver News Scrapping\n",
    "f=open('naverarticle.csv','r')\n",
    "while True:\n",
    "    line = f.readline()\n",
    "    if not line: break\n",
    "    print(line)\n",
    "f.close()"
   ]
  },
  {
   "cell_type": "code",
   "execution_count": null,
   "metadata": {},
   "outputs": [],
   "source": []
  }
 ],
 "metadata": {
  "kernelspec": {
   "display_name": "Python 3",
   "language": "python",
   "name": "python3"
  },
  "language_info": {
   "codemirror_mode": {
    "name": "ipython",
    "version": 3
   },
   "file_extension": ".py",
   "mimetype": "text/x-python",
   "name": "python",
   "nbconvert_exporter": "python",
   "pygments_lexer": "ipython3",
   "version": "3.7.4"
  }
 },
 "nbformat": 4,
 "nbformat_minor": 4
}
