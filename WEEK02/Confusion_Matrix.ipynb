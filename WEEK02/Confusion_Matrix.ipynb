{
 "cells": [
  {
   "cell_type": "markdown",
   "metadata": {},
   "source": [
    "### **Confusion Matrix**"
   ]
  },
  {
   "cell_type": "markdown",
   "metadata": {},
   "source": [
    "##### 2020710058 Applied Data Science Doo-yeonog, Lee"
   ]
  },
  {
   "cell_type": "markdown",
   "metadata": {},
   "source": [
    "혼동행렬(confusion matrix)은 모델의 성능을 평가할 때 사용되는 지표이며, 아래와 같이 크게 4가지 개념이 사용된다.<br>\n",
    "1. TP(True Positive) - 맞는 것을 올바르게 맞다고 예측한 것\n",
    "2. TN(True Negative) - 아닌 것을 올바르게 틀리다고 예측한 것\n",
    "3. FP(False Positive) - 아닌 것을 올바르지 않게 맞다고 예측한 것\n",
    "4. FN(False Negative) - 맞는 것을 올바르지 않게 틀리다고 예측한 것\n",
    "\n",
    "질병의 진단을 예로 들어 설명하면,\n",
    "+ TP : 질병이 있는 사람이 진단기에게 검사를 받았는데 Positive라는 예측을 하였습니다. 이 진단기는 질병이 있는 사람(맞는 것)을 '올바르게(True) 맞다고(Positive) 예측'하였으니 이 경우는 TP입니다. \n",
    "+ TN : 질병이 없는 사람이 진단기에게 검사를 받았는데 Negative라는 예측을 하였습니다.이 진단기는 질병이 없는 사람(아닌 것)을 '올바르게(True) 틀리다고(Negative) 예측'하였으니 TN입니다\n",
    "+ FP :질병이 없는 사람이 진단기에게 검사를 받았는데 Positive라는 예측을 하였습니다. 이 진단기는 질병이 없는 사람(아닌 것)을 '올바르지 않게(False) 맞다고(Positive) 예측'하였으니 FP입니다.\n",
    "+ FN : 질병이 있는 사람이 진단기에게 검사를 받았는데 Negative라는 예측을 하였습니다. 이 진단기는 질병이 있는 사람(맞는 것)을 '올바르지 않게(False) 틀리다고(Negative) 예측'하였으니 FN입니다.\n",
    "\n",
    "참고: https://lebi.tistory.com/5"
   ]
  },
  {
   "cell_type": "code",
   "execution_count": null,
   "metadata": {},
   "outputs": [],
   "source": [
    "# Python에서 코드로 구현할 경우에는 아래와 같다.\n",
    "from sklearn.metrics import classification_report, confusion_matrix\n",
    "\n",
    "print(confusion_matrix(y_test, predictions)) \n",
    "print(classification_report(y_test, predictions))"
   ]
  }
 ],
 "metadata": {
  "kernelspec": {
   "display_name": "Python 3",
   "language": "python",
   "name": "python3"
  },
  "language_info": {
   "codemirror_mode": {
    "name": "ipython",
    "version": 3
   },
   "file_extension": ".py",
   "mimetype": "text/x-python",
   "name": "python",
   "nbconvert_exporter": "python",
   "pygments_lexer": "ipython3",
   "version": "3.8.5"
  }
 },
 "nbformat": 4,
 "nbformat_minor": 4
}
