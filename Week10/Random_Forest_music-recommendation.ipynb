{
 "cells": [
  {
   "cell_type": "markdown",
   "metadata": {
    "_cell_guid": "99eb1258-c71a-4b82-8e59-982d15f09fd0",
    "_uuid": "9238ff111736f6dafa907a02fed5bf5f59e4fc27"
   },
   "source": [
    "### Music Recommendation"
   ]
  },
  {
   "cell_type": "markdown",
   "metadata": {},
   "source": [
    "##### 2020710058 Applied Data Science Doo-yeonog, Lee"
   ]
  },
  {
   "cell_type": "code",
   "execution_count": 1,
   "metadata": {
    "_cell_guid": "3cb501c4-dadc-4c3d-9034-dae9f36cfca1",
    "_uuid": "8401fb3bb4c7a53a8c58e48db4113d1d402a8111"
   },
   "outputs": [],
   "source": [
    "# Load Python libraries\n",
    "from sklearn import model_selection, metrics, ensemble\n",
    "import numpy as np\n",
    "import pandas as pd\n",
    "import seaborn as sns\n",
    "import matplotlib.pyplot as plt\n",
    "import matplotlib as mpl\n",
    "import warnings\n",
    "warnings.filterwarnings('ignore')\n",
    "plt.style.use('ggplot')"
   ]
  },
  {
   "cell_type": "markdown",
   "metadata": {
    "_cell_guid": "083ab3c8-e2fc-472b-af26-fedf97c82dbc",
    "_uuid": "ed268cdb9426fa20e5b4e523b2c14fe9ca6a7741"
   },
   "source": [
    "## Data Preparation"
   ]
  },
  {
   "cell_type": "code",
   "execution_count": 2,
   "metadata": {
    "_cell_guid": "323c09d3-4908-478a-abc9-8d7be6669620",
    "_uuid": "9a273952dd0ac2715f48aa16a90278bba6021a1e"
   },
   "outputs": [
    {
     "name": "stdout",
     "output_type": "stream",
     "text": [
      "(73774, 6)\n"
     ]
    },
    {
     "data": {
      "text/html": [
       "<div>\n",
       "<style scoped>\n",
       "    .dataframe tbody tr th:only-of-type {\n",
       "        vertical-align: middle;\n",
       "    }\n",
       "\n",
       "    .dataframe tbody tr th {\n",
       "        vertical-align: top;\n",
       "    }\n",
       "\n",
       "    .dataframe thead th {\n",
       "        text-align: right;\n",
       "    }\n",
       "</style>\n",
       "<table border=\"1\" class=\"dataframe\">\n",
       "  <thead>\n",
       "    <tr style=\"text-align: right;\">\n",
       "      <th></th>\n",
       "      <th>msno</th>\n",
       "      <th>song_id</th>\n",
       "      <th>source_system_tab</th>\n",
       "      <th>source_screen_name</th>\n",
       "      <th>source_type</th>\n",
       "      <th>target</th>\n",
       "    </tr>\n",
       "  </thead>\n",
       "  <tbody>\n",
       "    <tr>\n",
       "      <td>4557921</td>\n",
       "      <td>59jB0YiIwhcdyqIYUy7l2BJBdm8R8mHACPWfG8YjyuI=</td>\n",
       "      <td>7yOjucngPEja1YGEcc5CMuBLRzmyd+XrU+L3GcZDxWg=</td>\n",
       "      <td>discover</td>\n",
       "      <td>NaN</td>\n",
       "      <td>online-playlist</td>\n",
       "      <td>0</td>\n",
       "    </tr>\n",
       "  </tbody>\n",
       "</table>\n",
       "</div>"
      ],
      "text/plain": [
       "                                                 msno  \\\n",
       "4557921  59jB0YiIwhcdyqIYUy7l2BJBdm8R8mHACPWfG8YjyuI=   \n",
       "\n",
       "                                              song_id source_system_tab  \\\n",
       "4557921  7yOjucngPEja1YGEcc5CMuBLRzmyd+XrU+L3GcZDxWg=          discover   \n",
       "\n",
       "        source_screen_name      source_type  target  \n",
       "4557921                NaN  online-playlist       0  "
      ]
     },
     "execution_count": 2,
     "metadata": {},
     "output_type": "execute_result"
    }
   ],
   "source": [
    "# Load data\n",
    "df = pd.read_csv('data/train.csv')\n",
    "\n",
    "# 1% sample of items\n",
    "df = df.sample(frac=0.01)\n",
    "print(df.shape)\n",
    "df.head(1)"
   ]
  },
  {
   "cell_type": "code",
   "execution_count": 3,
   "metadata": {
    "_cell_guid": "133c555c-7927-4e60-ad75-f2fabb82b948",
    "_uuid": "e35704b25cc37bbc9e231e681cbd627a95aeadbc"
   },
   "outputs": [],
   "source": [
    "# Load and join songs data\n",
    "songs = pd.read_csv('data/songs.csv')\n",
    "df = pd.merge(df, songs, on='song_id', how='left')\n",
    "del songs\n",
    "\n",
    "# Load and join songs data\n",
    "members = pd.read_csv('data/members.csv')\n",
    "df = pd.merge(df, members, on='msno', how='left')\n",
    "del members"
   ]
  },
  {
   "cell_type": "code",
   "execution_count": 4,
   "metadata": {
    "_cell_guid": "e3bce84e-1ae4-43e0-9fbb-37f6c58534b0",
    "_uuid": "eaf838ed7a75cd3b597d32b78d63dde8417ad717"
   },
   "outputs": [
    {
     "name": "stdout",
     "output_type": "stream",
     "text": [
      "<class 'pandas.core.frame.DataFrame'>\n",
      "Int64Index: 73774 entries, 0 to 73773\n",
      "Data columns (total 18 columns):\n",
      "msno                      73774 non-null object\n",
      "song_id                   73774 non-null object\n",
      "source_system_tab         73555 non-null object\n",
      "source_screen_name        69738 non-null object\n",
      "source_type               73585 non-null object\n",
      "target                    73774 non-null int64\n",
      "song_length               73774 non-null int64\n",
      "genre_ids                 72649 non-null object\n",
      "artist_name               73774 non-null object\n",
      "composer                  56929 non-null object\n",
      "lyricist                  41954 non-null object\n",
      "language                  73773 non-null float64\n",
      "city                      73774 non-null int64\n",
      "bd                        73774 non-null int64\n",
      "gender                    44273 non-null object\n",
      "registered_via            73774 non-null int64\n",
      "registration_init_time    73774 non-null int64\n",
      "expiration_date           73774 non-null int64\n",
      "dtypes: float64(1), int64(7), object(10)\n",
      "memory usage: 10.7+ MB\n"
     ]
    }
   ],
   "source": [
    "df.info()"
   ]
  },
  {
   "cell_type": "code",
   "execution_count": 5,
   "metadata": {
    "_cell_guid": "941e45d6-2ef6-499c-9bef-240e9f309701",
    "_uuid": "c2b3d2b26bfa4e8186203b3a85b49dcf8b5404ea"
   },
   "outputs": [
    {
     "data": {
      "text/plain": [
       "msno                          0\n",
       "song_id                       0\n",
       "source_system_tab           219\n",
       "source_screen_name         4036\n",
       "source_type                 189\n",
       "target                        0\n",
       "song_length                   0\n",
       "genre_ids                  1125\n",
       "artist_name                   0\n",
       "composer                  16845\n",
       "lyricist                  31820\n",
       "language                      1\n",
       "city                          0\n",
       "bd                            0\n",
       "gender                    29501\n",
       "registered_via                0\n",
       "registration_init_time        0\n",
       "expiration_date               0\n",
       "dtype: int64"
      ]
     },
     "execution_count": 5,
     "metadata": {},
     "output_type": "execute_result"
    }
   ],
   "source": [
    "df.isnull().sum()"
   ]
  },
  {
   "cell_type": "code",
   "execution_count": 6,
   "metadata": {
    "_cell_guid": "1412df2a-ea7b-4130-b4cb-91026afca736",
    "_uuid": "631e06cba7993a2315daec41d19f2dae5d2a680f"
   },
   "outputs": [],
   "source": [
    "# Replace NA\n",
    "for i in df.select_dtypes(include=['object']).columns:\n",
    "    df[i][df[i].isnull()] = 'unknown'\n",
    "df = df.fillna(value=0)"
   ]
  },
  {
   "cell_type": "code",
   "execution_count": 7,
   "metadata": {
    "_cell_guid": "3ff63757-e32b-436e-8afb-b19e98a6c703",
    "_uuid": "2598a1b6419d2651cd686b51b607016b7afe1e57"
   },
   "outputs": [],
   "source": [
    "# Create Dates\n",
    "\n",
    "# registration_init_time\n",
    "df.registration_init_time = pd.to_datetime(df.registration_init_time, format='%Y%m%d', errors='ignore')\n",
    "df['registration_init_time_year'] = df['registration_init_time'].dt.year\n",
    "df['registration_init_time_month'] = df['registration_init_time'].dt.month\n",
    "df['registration_init_time_day'] = df['registration_init_time'].dt.day\n",
    "\n",
    "# expiration_date\n",
    "df.expiration_date = pd.to_datetime(df.expiration_date,  format='%Y%m%d', errors='ignore')\n",
    "df['expiration_date_year'] = df['expiration_date'].dt.year\n",
    "df['expiration_date_month'] = df['expiration_date'].dt.month\n",
    "df['expiration_date_day'] = df['expiration_date'].dt.day"
   ]
  },
  {
   "cell_type": "code",
   "execution_count": 8,
   "metadata": {
    "_cell_guid": "0b6c2284-14c0-4cb1-95a6-3bcc1f6b7ecb",
    "_uuid": "d527b49dc13cb639b719829e7ea8acdc96a83763"
   },
   "outputs": [
    {
     "data": {
      "text/html": [
       "<div>\n",
       "<style scoped>\n",
       "    .dataframe tbody tr th:only-of-type {\n",
       "        vertical-align: middle;\n",
       "    }\n",
       "\n",
       "    .dataframe tbody tr th {\n",
       "        vertical-align: top;\n",
       "    }\n",
       "\n",
       "    .dataframe thead th {\n",
       "        text-align: right;\n",
       "    }\n",
       "</style>\n",
       "<table border=\"1\" class=\"dataframe\">\n",
       "  <thead>\n",
       "    <tr style=\"text-align: right;\">\n",
       "      <th></th>\n",
       "      <th>msno</th>\n",
       "      <th>song_id</th>\n",
       "      <th>source_system_tab</th>\n",
       "      <th>source_screen_name</th>\n",
       "      <th>source_type</th>\n",
       "      <th>target</th>\n",
       "      <th>song_length</th>\n",
       "      <th>genre_ids</th>\n",
       "      <th>artist_name</th>\n",
       "      <th>composer</th>\n",
       "      <th>...</th>\n",
       "      <th>gender</th>\n",
       "      <th>registered_via</th>\n",
       "      <th>registration_init_time</th>\n",
       "      <th>expiration_date</th>\n",
       "      <th>registration_init_time_year</th>\n",
       "      <th>registration_init_time_month</th>\n",
       "      <th>registration_init_time_day</th>\n",
       "      <th>expiration_date_year</th>\n",
       "      <th>expiration_date_month</th>\n",
       "      <th>expiration_date_day</th>\n",
       "    </tr>\n",
       "  </thead>\n",
       "  <tbody>\n",
       "    <tr>\n",
       "      <td>0</td>\n",
       "      <td>59jB0YiIwhcdyqIYUy7l2BJBdm8R8mHACPWfG8YjyuI=</td>\n",
       "      <td>7yOjucngPEja1YGEcc5CMuBLRzmyd+XrU+L3GcZDxWg=</td>\n",
       "      <td>discover</td>\n",
       "      <td>unknown</td>\n",
       "      <td>online-playlist</td>\n",
       "      <td>0</td>\n",
       "      <td>216894</td>\n",
       "      <td>444</td>\n",
       "      <td>Yeoeun</td>\n",
       "      <td>unknown</td>\n",
       "      <td>...</td>\n",
       "      <td>female</td>\n",
       "      <td>4</td>\n",
       "      <td>2016-06-11</td>\n",
       "      <td>2017-08-18</td>\n",
       "      <td>2016</td>\n",
       "      <td>6</td>\n",
       "      <td>11</td>\n",
       "      <td>2017</td>\n",
       "      <td>8</td>\n",
       "      <td>18</td>\n",
       "    </tr>\n",
       "    <tr>\n",
       "      <td>1</td>\n",
       "      <td>dEirl2AEI6Yte8Q2HNtuax30OqepRwVzFmLyHOWsCIM=</td>\n",
       "      <td>OCf6ja6rohWVy5UBE/XTSOf9YxiMrkCIaLTkFQ+nNf8=</td>\n",
       "      <td>discover</td>\n",
       "      <td>unknown</td>\n",
       "      <td>top-hits-for-artist</td>\n",
       "      <td>1</td>\n",
       "      <td>212453</td>\n",
       "      <td>444</td>\n",
       "      <td>BLACKPINK</td>\n",
       "      <td>TEDDY|  FUTURE BOUNCE|  Bekuh BOOM</td>\n",
       "      <td>...</td>\n",
       "      <td>unknown</td>\n",
       "      <td>9</td>\n",
       "      <td>2016-06-28</td>\n",
       "      <td>2017-09-30</td>\n",
       "      <td>2016</td>\n",
       "      <td>6</td>\n",
       "      <td>28</td>\n",
       "      <td>2017</td>\n",
       "      <td>9</td>\n",
       "      <td>30</td>\n",
       "    </tr>\n",
       "    <tr>\n",
       "      <td>2</td>\n",
       "      <td>cawN/88OIgfzw3o43QBFJM8QL+H12koa4U0VbEAUCnM=</td>\n",
       "      <td>uMHKb8SrN4YGZLZvOfepysi/YSeEdVciKYDtDPX6rYo=</td>\n",
       "      <td>radio</td>\n",
       "      <td>Radio</td>\n",
       "      <td>radio</td>\n",
       "      <td>0</td>\n",
       "      <td>275017</td>\n",
       "      <td>465</td>\n",
       "      <td>Berry</td>\n",
       "      <td>unknown</td>\n",
       "      <td>...</td>\n",
       "      <td>unknown</td>\n",
       "      <td>7</td>\n",
       "      <td>2015-11-04</td>\n",
       "      <td>2017-10-04</td>\n",
       "      <td>2015</td>\n",
       "      <td>11</td>\n",
       "      <td>4</td>\n",
       "      <td>2017</td>\n",
       "      <td>10</td>\n",
       "      <td>4</td>\n",
       "    </tr>\n",
       "    <tr>\n",
       "      <td>3</td>\n",
       "      <td>Cxg0g+JicmeneW19M9HAh4KfRY2IdFU00vU9pVEvEQI=</td>\n",
       "      <td>dyfjbCPtrhu0Pqj3F3J1Z+1YtyWLuXNr1osvNZNchPY=</td>\n",
       "      <td>my library</td>\n",
       "      <td>Local playlist more</td>\n",
       "      <td>local-library</td>\n",
       "      <td>1</td>\n",
       "      <td>220160</td>\n",
       "      <td>444|1259</td>\n",
       "      <td>BIGBANG</td>\n",
       "      <td>TEDDY| G-DRAGON</td>\n",
       "      <td>...</td>\n",
       "      <td>unknown</td>\n",
       "      <td>9</td>\n",
       "      <td>2015-08-21</td>\n",
       "      <td>2017-08-20</td>\n",
       "      <td>2015</td>\n",
       "      <td>8</td>\n",
       "      <td>21</td>\n",
       "      <td>2017</td>\n",
       "      <td>8</td>\n",
       "      <td>20</td>\n",
       "    </tr>\n",
       "    <tr>\n",
       "      <td>4</td>\n",
       "      <td>JXRPXjzB6ETig/oUoyC/FzMvb1MMFjZQtVF0lOXa2ko=</td>\n",
       "      <td>mcYOteyPPVdG51WbJvl1dpmJMOcSZ6Q2YvSiVsTqiNE=</td>\n",
       "      <td>discover</td>\n",
       "      <td>Album more</td>\n",
       "      <td>album</td>\n",
       "      <td>0</td>\n",
       "      <td>226152</td>\n",
       "      <td>921</td>\n",
       "      <td>Various Artists</td>\n",
       "      <td>GAEMI/Kim Se Jin</td>\n",
       "      <td>...</td>\n",
       "      <td>unknown</td>\n",
       "      <td>9</td>\n",
       "      <td>2017-01-25</td>\n",
       "      <td>2018-01-26</td>\n",
       "      <td>2017</td>\n",
       "      <td>1</td>\n",
       "      <td>25</td>\n",
       "      <td>2018</td>\n",
       "      <td>1</td>\n",
       "      <td>26</td>\n",
       "    </tr>\n",
       "  </tbody>\n",
       "</table>\n",
       "<p>5 rows × 24 columns</p>\n",
       "</div>"
      ],
      "text/plain": [
       "                                           msno  \\\n",
       "0  59jB0YiIwhcdyqIYUy7l2BJBdm8R8mHACPWfG8YjyuI=   \n",
       "1  dEirl2AEI6Yte8Q2HNtuax30OqepRwVzFmLyHOWsCIM=   \n",
       "2  cawN/88OIgfzw3o43QBFJM8QL+H12koa4U0VbEAUCnM=   \n",
       "3  Cxg0g+JicmeneW19M9HAh4KfRY2IdFU00vU9pVEvEQI=   \n",
       "4  JXRPXjzB6ETig/oUoyC/FzMvb1MMFjZQtVF0lOXa2ko=   \n",
       "\n",
       "                                        song_id source_system_tab  \\\n",
       "0  7yOjucngPEja1YGEcc5CMuBLRzmyd+XrU+L3GcZDxWg=          discover   \n",
       "1  OCf6ja6rohWVy5UBE/XTSOf9YxiMrkCIaLTkFQ+nNf8=          discover   \n",
       "2  uMHKb8SrN4YGZLZvOfepysi/YSeEdVciKYDtDPX6rYo=             radio   \n",
       "3  dyfjbCPtrhu0Pqj3F3J1Z+1YtyWLuXNr1osvNZNchPY=        my library   \n",
       "4  mcYOteyPPVdG51WbJvl1dpmJMOcSZ6Q2YvSiVsTqiNE=          discover   \n",
       "\n",
       "    source_screen_name          source_type  target  song_length genre_ids  \\\n",
       "0              unknown      online-playlist       0       216894       444   \n",
       "1              unknown  top-hits-for-artist       1       212453       444   \n",
       "2                Radio                radio       0       275017       465   \n",
       "3  Local playlist more        local-library       1       220160  444|1259   \n",
       "4           Album more                album       0       226152       921   \n",
       "\n",
       "       artist_name                            composer  ...   gender  \\\n",
       "0           Yeoeun                             unknown  ...   female   \n",
       "1        BLACKPINK  TEDDY|  FUTURE BOUNCE|  Bekuh BOOM  ...  unknown   \n",
       "2            Berry                             unknown  ...  unknown   \n",
       "3          BIGBANG                     TEDDY| G-DRAGON  ...  unknown   \n",
       "4  Various Artists                    GAEMI/Kim Se Jin  ...  unknown   \n",
       "\n",
       "   registered_via  registration_init_time  expiration_date  \\\n",
       "0               4              2016-06-11       2017-08-18   \n",
       "1               9              2016-06-28       2017-09-30   \n",
       "2               7              2015-11-04       2017-10-04   \n",
       "3               9              2015-08-21       2017-08-20   \n",
       "4               9              2017-01-25       2018-01-26   \n",
       "\n",
       "  registration_init_time_year  registration_init_time_month  \\\n",
       "0                        2016                             6   \n",
       "1                        2016                             6   \n",
       "2                        2015                            11   \n",
       "3                        2015                             8   \n",
       "4                        2017                             1   \n",
       "\n",
       "  registration_init_time_day expiration_date_year  expiration_date_month  \\\n",
       "0                         11                 2017                      8   \n",
       "1                         28                 2017                      9   \n",
       "2                          4                 2017                     10   \n",
       "3                         21                 2017                      8   \n",
       "4                         25                 2018                      1   \n",
       "\n",
       "   expiration_date_day  \n",
       "0                   18  \n",
       "1                   30  \n",
       "2                    4  \n",
       "3                   20  \n",
       "4                   26  \n",
       "\n",
       "[5 rows x 24 columns]"
      ]
     },
     "execution_count": 8,
     "metadata": {},
     "output_type": "execute_result"
    }
   ],
   "source": [
    "df.head()"
   ]
  },
  {
   "cell_type": "code",
   "execution_count": 9,
   "metadata": {
    "_cell_guid": "4c55921a-943f-4884-a28e-d7966e8a1f85",
    "_uuid": "52916f887c26c24b300807ed79e8d61a5b326223"
   },
   "outputs": [],
   "source": [
    "df['registration_init_time'] = df['registration_init_time'].astype('category')\n",
    "df['expiration_date'] = df['expiration_date'].astype('category')"
   ]
  },
  {
   "cell_type": "code",
   "execution_count": 10,
   "metadata": {
    "_cell_guid": "eb1de5a5-571f-4c9e-b8e1-7e08e28a308c",
    "_uuid": "7735e90a4d941d6cd8fb876b7c701d67d99ae791"
   },
   "outputs": [],
   "source": [
    "for col in df.select_dtypes(include=['object']).columns:\n",
    "    df[col] = df[col].astype('category')\n",
    "    \n",
    "for col in df.select_dtypes(include=['category']).columns:\n",
    "    df[col] = df[col].cat.codes"
   ]
  },
  {
   "cell_type": "code",
   "execution_count": 11,
   "metadata": {
    "_cell_guid": "9957b62e-44b9-4e54-99ff-13a22272dffa",
    "_uuid": "eda172c0ed9467992a3d440300ed5ede7ff63bf4"
   },
   "outputs": [
    {
     "data": {
      "image/png": "[encoded data removed]",
      "text/plain": [
       "<Figure size 504x360 with 2 Axes>"
      ]
     },
     "metadata": {
      "needs_background": "light"
     },
     "output_type": "display_data"
    }
   ],
   "source": [
    "# Сorrelation matrix\n",
    "plt.figure(figsize=[7,5])\n",
    "sns.heatmap(df.corr())\n",
    "plt.show()"
   ]
  },
  {
   "cell_type": "code",
   "execution_count": 12,
   "metadata": {
    "_cell_guid": "f88a219b-876c-4576-b50c-8b560ed80ba3",
    "_uuid": "6b51de4e0d601b55efe8d59a21f56eccb62fb099"
   },
   "outputs": [],
   "source": [
    "df = df.drop(['expiration_date', 'lyricist'], 1)"
   ]
  },
  {
   "cell_type": "code",
   "execution_count": 13,
   "metadata": {
    "_cell_guid": "5c9aa021-5e01-4d16-ab3b-56c69d3b6673",
    "_uuid": "0838fcc196768fcbc5ee650f3ac7bec675b52722"
   },
   "outputs": [
    {
     "data": {
      "text/plain": [
       "RandomForestClassifier(max_depth=25, n_estimators=250)"
      ]
     },
     "execution_count": 13,
     "metadata": {},
     "output_type": "execute_result"
    }
   ],
   "source": [
    "# Model with the best estimator\n",
    "model = ensemble.RandomForestClassifier(n_estimators=250, max_depth=25)\n",
    "model.fit(df[df.columns[df.columns != 'target']], df.target)"
   ]
  },
  {
   "cell_type": "code",
   "execution_count": 14,
   "metadata": {
    "_cell_guid": "1171b290-b023-4e4d-9a5d-a80663159940",
    "_uuid": "af4c4b6e5a87f0d1aca39df112bdd70655e003f1"
   },
   "outputs": [],
   "source": [
    "df_plot = pd.DataFrame({'features': df.columns[df.columns != 'target'],\n",
    "                        'importances': model.feature_importances_})\n",
    "df_plot = df_plot.sort_values('importances', ascending=False)"
   ]
  },
  {
   "cell_type": "code",
   "execution_count": 15,
   "metadata": {
    "_cell_guid": "42bae679-abf7-46fa-8499-50bfcc924454",
    "_uuid": "c3e4b7d7abdc72fbbc5523cd2a53a626de7597c3"
   },
   "outputs": [
    {
     "data": {
      "image/png": "[encoded data removed]",
      "text/plain": [
       "<Figure size 792x360 with 1 Axes>"
      ]
     },
     "metadata": {
      "needs_background": "light"
     },
     "output_type": "display_data"
    }
   ],
   "source": [
    "plt.figure(figsize=[11,5])\n",
    "sns.barplot(x = df_plot.importances, y = df_plot.features)\n",
    "plt.title('Importances of Features Plot')\n",
    "plt.show()"
   ]
  },
  {
   "cell_type": "code",
   "execution_count": 16,
   "metadata": {
    "_cell_guid": "68b327dd-b44b-4601-87cd-23308541480f",
    "_uuid": "a36b2245851a12d27269c46b2715760f85f53beb"
   },
   "outputs": [],
   "source": [
    "# Drop columns with importances < 0.04\n",
    "df = df.drop(df_plot.features[df_plot.importances < 0.04].tolist(), 1)"
   ]
  },
  {
   "cell_type": "code",
   "execution_count": 17,
   "metadata": {
    "_cell_guid": "9f04900f-4ccb-4748-b3e1-3d43d9940746",
    "_uuid": "dbc1d83b322cb977bf5221a28792f2091f1da84c"
   },
   "outputs": [
    {
     "data": {
      "text/plain": [
       "Index(['msno', 'song_id', 'source_screen_name', 'source_type', 'target',\n",
       "       'song_length', 'artist_name', 'composer', 'bd',\n",
       "       'registration_init_time', 'registration_init_time_month',\n",
       "       'registration_init_time_day', 'expiration_date_day'],\n",
       "      dtype='object')"
      ]
     },
     "execution_count": 17,
     "metadata": {},
     "output_type": "execute_result"
    }
   ],
   "source": [
    "# Selected columns\n",
    "df.columns"
   ]
  },
  {
   "cell_type": "code",
   "execution_count": 18,
   "metadata": {},
   "outputs": [
    {
     "name": "stdout",
     "output_type": "stream",
     "text": [
      "              precision    recall  f1-score   support\n",
      "\n",
      "           0       0.64      0.60      0.62     11025\n",
      "           1       0.63      0.66      0.65     11108\n",
      "\n",
      "    accuracy                           0.63     22133\n",
      "   macro avg       0.63      0.63      0.63     22133\n",
      "weighted avg       0.63      0.63      0.63     22133\n",
      "\n"
     ]
    }
   ],
   "source": [
    "target = df.pop('target')\n",
    "train_data, test_data, train_labels, test_labels = model_selection.train_test_split(df, target, test_size = 0.3)\n",
    "\n",
    "model = ensemble.RandomForestClassifier(n_estimators=250, max_depth=25)\n",
    "model.fit(train_data, train_labels)\n",
    "\n",
    "predict_labels = model.predict(test_data)\n",
    "print(metrics.classification_report(test_labels, predict_labels))"
   ]
  }
 ],
 "metadata": {
  "kernelspec": {
   "display_name": "Python 3",
   "language": "python",
   "name": "python3"
  },
  "language_info": {
   "codemirror_mode": {
    "name": "ipython",
    "version": 3
   },
   "file_extension": ".py",
   "mimetype": "text/x-python",
   "name": "python",
   "nbconvert_exporter": "python",
   "pygments_lexer": "ipython3",
   "version": "3.7.4"
  }
 },
 "nbformat": 4,
 "nbformat_minor": 4
}
