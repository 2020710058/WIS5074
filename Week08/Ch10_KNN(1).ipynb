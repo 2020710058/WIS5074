{
 "cells": [
  {
   "cell_type": "markdown",
   "metadata": {},
   "source": [
    "### **파이썬을 활용한 빅데이터 분석**"
   ]
  },
  {
   "cell_type": "markdown",
   "metadata": {},
   "source": [
    "##### Chapter 10 기타 기계학습을 이용한 데이터 분석(K-Nearest Neighbors)"
   ]
  },
  {
   "cell_type": "markdown",
   "metadata": {},
   "source": [
    "##### 2020710058 Applied Data Science Doo-yeonog, Lee"
   ]
  },
  {
   "cell_type": "markdown",
   "metadata": {},
   "source": [
    "##### 10.2.3 KNN 실습"
   ]
  },
  {
   "cell_type": "code",
   "execution_count": 61,
   "metadata": {},
   "outputs": [],
   "source": [
    "# Load Libraries\n",
    "import numpy as np\n",
    "import pandas as pd\n",
    "import matplotlib.pyplot as plt\n",
    "\n",
    "from sklearn.neighbors import KNeighborsClassifier\n",
    "from sklearn.metrics import accuracy_score\n",
    "from sklearn.model_selection import train_test_split\n",
    "from sklearn.model_selection import cross_val_score\n",
    "from sklearn.datasets import load_iris"
   ]
  },
  {
   "cell_type": "code",
   "execution_count": 28,
   "metadata": {},
   "outputs": [],
   "source": [
    "# Load Iris Data\n",
    "iris = load_iris()\n",
    "X = iris.data\n",
    "y = iris.target"
   ]
  },
  {
   "cell_type": "code",
   "execution_count": 35,
   "metadata": {},
   "outputs": [
    {
     "name": "stdout",
     "output_type": "stream",
     "text": [
      "<Iris Data>\n",
      "The number of Data Samples: 150\n",
      "The number of Features: 4\n",
      "The labels of the data: [0 1 2]\n"
     ]
    }
   ],
   "source": [
    "df = pd.DataFrame(X, columns = iris.feature_names)\n",
    "print('<Iris Data>')\n",
    "print('The number of Data Samples:', len(df))\n",
    "print('The number of Features:', len(df.columns))\n",
    "print('The labels of the data:', np.unique(y))"
   ]
  },
  {
   "cell_type": "code",
   "execution_count": 55,
   "metadata": {},
   "outputs": [
    {
     "name": "stdout",
     "output_type": "stream",
     "text": [
      "The number of train data set: 100\n",
      "The number of test data set: 50\n"
     ]
    }
   ],
   "source": [
    "# Split the data into train set and test set\n",
    "X_train, X_test, y_train, y_test = train_test_split(X, y, test_size = 0.33, random_state = 42)\n",
    "print('The number of train data set:', len(X_train))\n",
    "print('The number of test data set:', len(X_test))"
   ]
  },
  {
   "cell_type": "code",
   "execution_count": 56,
   "metadata": {},
   "outputs": [
    {
     "name": "stdout",
     "output_type": "stream",
     "text": [
      "The accuracy score of classification: 0.98\n"
     ]
    }
   ],
   "source": [
    "# Learning Model\n",
    "estimator = KNeighborsClassifier(n_neighbors = 3)\n",
    "# Fitting the Model\n",
    "estimator.fit(X_train, y_train)\n",
    "# Predict the response\n",
    "label_predict = estimator.predict(X_test)\n",
    "# Evaluate accuarcy\n",
    "print('The accuracy score of classification:', accuracy_score(y_test, label_predict))"
   ]
  },
  {
   "cell_type": "code",
   "execution_count": 57,
   "metadata": {},
   "outputs": [
    {
     "name": "stdout",
     "output_type": "stream",
     "text": [
      "[1, 3, 5, 7, 9, 11, 13, 15, 17, 19, 21, 23, 25, 27, 29, 31, 33, 35, 37, 39, 41, 43, 45, 47, 49]\n",
      "The number of neighbors:  25\n"
     ]
    }
   ],
   "source": [
    "# Perform 10 cross-validation\n",
    "\n",
    "# Create odd list of k for KNN\n",
    "myList = list(range(1, 50))\n",
    "neighbors = [x for x in myList if x % 2 != 0]\n",
    "print(neighbors)\n",
    "print('The number of neighbors: ', len(neighbors))"
   ]
  },
  {
   "cell_type": "code",
   "execution_count": 58,
   "metadata": {},
   "outputs": [
    {
     "name": "stdout",
     "output_type": "stream",
     "text": [
      "< K = 1 >\n",
      "The scores of classification are : [1.  0.9 1.  0.8 0.8 1.  1.  1.  1.  0.9]\n",
      "The mean score of scores : 0.9400000000000001\n",
      "< K = 3 >\n",
      "The scores of classification are : [0.9 1.  1.  0.7 0.9 1.  1.  1.  1.  0.9]\n",
      "The mean score of scores : 0.9400000000000001\n",
      "< K = 5 >\n",
      "The scores of classification are : [1.  1.  1.  0.7 0.9 0.9 1.  1.  1.  0.9]\n",
      "The mean score of scores : 0.9400000000000001\n",
      "< K = 7 >\n",
      "The scores of classification are : [1.  0.9 1.  0.7 1.  0.9 1.  1.  1.  0.9]\n",
      "The mean score of scores : 0.9400000000000001\n",
      "< K = 9 >\n",
      "The scores of classification are : [0.9 1.  1.  0.7 1.  0.9 1.  1.  1.  0.9]\n",
      "The mean score of scores : 0.9400000000000001\n",
      "< K = 11 >\n",
      "The scores of classification are : [1.  0.9 1.  0.7 0.9 0.9 1.  1.  1.  0.9]\n",
      "The mean score of scores : 0.9299999999999999\n",
      "< K = 13 >\n",
      "The scores of classification are : [0.9 0.9 1.  0.7 0.9 0.9 1.  1.  1.  0.9]\n",
      "The mean score of scores : 0.9200000000000002\n",
      "< K = 15 >\n",
      "The scores of classification are : [1.  0.9 1.  0.7 0.9 1.  1.  1.  1.  0.9]\n",
      "The mean score of scores : 0.9400000000000001\n",
      "< K = 17 >\n",
      "The scores of classification are : [1.  0.9 1.  0.7 0.9 0.9 1.  1.  1.  0.9]\n",
      "The mean score of scores : 0.9299999999999999\n",
      "< K = 19 >\n",
      "The scores of classification are : [1.  0.9 1.  0.7 0.9 0.9 1.  1.  1.  0.9]\n",
      "The mean score of scores : 0.9299999999999999\n",
      "< K = 21 >\n",
      "The scores of classification are : [1.  0.9 1.  0.7 0.9 0.9 1.  1.  1.  0.9]\n",
      "The mean score of scores : 0.9299999999999999\n",
      "< K = 23 >\n",
      "The scores of classification are : [1.  0.9 1.  0.8 0.9 1.  1.  1.  0.9 0.9]\n",
      "The mean score of scores : 0.9400000000000001\n",
      "< K = 25 >\n",
      "The scores of classification are : [1.  0.9 1.  0.8 1.  0.9 1.  1.  0.9 0.9]\n",
      "The mean score of scores : 0.9400000000000001\n",
      "< K = 27 >\n",
      "The scores of classification are : [1.  0.9 1.  0.9 0.9 0.9 1.  1.  0.9 0.9]\n",
      "The mean score of scores : 0.9400000000000001\n",
      "< K = 29 >\n",
      "The scores of classification are : [1.  0.9 1.  0.9 0.9 0.8 1.  1.  0.8 0.9]\n",
      "The mean score of scores : 0.9200000000000002\n",
      "< K = 31 >\n",
      "The scores of classification are : [1.  0.8 1.  0.9 0.9 0.8 1.  1.  0.8 0.9]\n",
      "The mean score of scores : 0.9100000000000001\n",
      "< K = 33 >\n",
      "The scores of classification are : [1.  0.8 0.9 0.9 0.9 0.8 1.  1.  0.8 0.9]\n",
      "The mean score of scores : 0.9000000000000001\n",
      "< K = 35 >\n",
      "The scores of classification are : [1.  0.8 0.9 0.9 0.9 0.8 1.  1.  0.8 0.9]\n",
      "The mean score of scores : 0.9000000000000001\n",
      "< K = 37 >\n",
      "The scores of classification are : [1.  0.8 0.9 0.9 0.9 0.8 1.  1.  0.8 0.9]\n",
      "The mean score of scores : 0.9000000000000001\n",
      "< K = 39 >\n",
      "The scores of classification are : [0.9 0.8 0.9 0.9 0.9 0.8 1.  1.  0.8 0.9]\n",
      "The mean score of scores : 0.89\n",
      "< K = 41 >\n",
      "The scores of classification are : [0.9 0.8 0.9 0.9 0.9 0.9 1.  1.  0.8 0.9]\n",
      "The mean score of scores : 0.9\n",
      "< K = 43 >\n",
      "The scores of classification are : [0.9 0.8 0.9 0.9 0.9 0.8 1.  1.  0.8 0.9]\n",
      "The mean score of scores : 0.89\n",
      "< K = 45 >\n",
      "The scores of classification are : [0.9 0.8 0.9 0.9 0.9 0.8 1.  1.  0.8 0.9]\n",
      "The mean score of scores : 0.89\n",
      "< K = 47 >\n",
      "The scores of classification are : [0.9 0.8 0.9 0.8 0.9 0.9 1.  1.  0.8 0.8]\n",
      "The mean score of scores : 0.8800000000000001\n",
      "< K = 49 >\n",
      "The scores of classification are : [0.9 0.8 0.9 0.8 0.9 0.8 1.  1.  0.8 0.8]\n",
      "The mean score of scores : 0.8700000000000001\n"
     ]
    }
   ],
   "source": [
    "cv_scores = []\n",
    "# Perfoem 10-fold cross validation\n",
    "for k in neighbors:\n",
    "    print('< K = %d >'%k)\n",
    "    estimator = KNeighborsClassifier(n_neighbors = k)\n",
    "    scores = cross_val_score(estimator, X_train, y_train, cv = 10, scoring = 'accuracy')\n",
    "    print('The scores of classification are :', scores)\n",
    "    cv_scores.append(scores.mean())\n",
    "    print('The mean score of scores :', scores.mean())"
   ]
  },
  {
   "cell_type": "code",
   "execution_count": 64,
   "metadata": {},
   "outputs": [
    {
     "data": {
      "image/png": "[encoded data removed]",
      "text/plain": [
       "<Figure size 432x288 with 1 Axes>"
      ]
     },
     "metadata": {
      "needs_background": "light"
     },
     "output_type": "display_data"
    },
    {
     "name": "stdout",
     "output_type": "stream",
     "text": [
      "The optimal number of neighbors K is  1\n"
     ]
    }
   ],
   "source": [
    "# MSE\n",
    "MSE = [1 - x for x in cv_scores]\n",
    "\n",
    "# Plot of error vs k\n",
    "plt.plot(neighbors, MSE)\n",
    "plt.xlabel('Number of Neighbors, K')\n",
    "plt.ylabel('Missclassification Error')\n",
    "plt.show()\n",
    "\n",
    "# Determine the Best K\n",
    "min_MSE = min(MSE)\n",
    "index_min_MSE = MSE.index(min_MSE)\n",
    "optimal_k = neighbors[index_min_MSE]\n",
    "print('The optimal number of neighbors K is ', optimal_k)"
   ]
  },
  {
   "cell_type": "code",
   "execution_count": null,
   "metadata": {},
   "outputs": [],
   "source": []
  }
 ],
 "metadata": {
  "kernelspec": {
   "display_name": "Python 3",
   "language": "python",
   "name": "python3"
  },
  "language_info": {
   "codemirror_mode": {
    "name": "ipython",
    "version": 3
   },
   "file_extension": ".py",
   "mimetype": "text/x-python",
   "name": "python",
   "nbconvert_exporter": "python",
   "pygments_lexer": "ipython3",
   "version": "3.7.4"
  }
 },
 "nbformat": 4,
 "nbformat_minor": 4
}
